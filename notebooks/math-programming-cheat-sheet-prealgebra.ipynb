{
 "cells": [
  {
   "cell_type": "markdown",
   "metadata": {},
   "source": [
    "# Prealgebra"
   ]
  },
  {
   "cell_type": "markdown",
   "metadata": {},
   "source": [
    "## Integers"
   ]
  },
  {
   "cell_type": "markdown",
   "metadata": {},
   "source": [
    "### Description"
   ]
  },
  {
   "cell_type": "markdown",
   "metadata": {},
   "source": [
    "[Introduction to Whole Numbers](https://openstax.org/books/prealgebra-2e/pages/1-1-introduction-to-whole-numbers)\n",
    "\n",
    "[Introduction to Integers](https://openstax.org/books/prealgebra-2e/pages/3-1-introduction-to-integers)"
   ]
  },
  {
   "cell_type": "markdown",
   "metadata": {},
   "source": [
    "### LaTeX"
   ]
  },
  {
   "cell_type": "markdown",
   "metadata": {},
   "source": [
    "`$$-1,720$$`\n",
    "\n",
    "$$-1,720$$"
   ]
  },
  {
   "cell_type": "markdown",
   "metadata": {},
   "source": [
    "## Addition"
   ]
  },
  {
   "cell_type": "markdown",
   "metadata": {},
   "source": [
    "### Description"
   ]
  },
  {
   "cell_type": "markdown",
   "metadata": {},
   "source": [
    "[Add Whole Numbers](https://openstax.org/books/prealgebra-2e/pages/1-2-add-whole-numbers)\n",
    "\n",
    "[Add Integers](https://openstax.org/books/prealgebra-2e/pages/3-2-add-integers)"
   ]
  },
  {
   "cell_type": "markdown",
   "metadata": {},
   "source": [
    "### LaTeX"
   ]
  },
  {
   "cell_type": "markdown",
   "metadata": {},
   "source": [
    "`$$3 + 4 = 7$$`\n",
    "\n",
    "$$3 + 4 = 7$$\n",
    "\n",
    "`$$\\begin{array}{r}\n",
    "  28\\\\\n",
    "  +61\\\\\n",
    "  \\hline\n",
    "  89\n",
    "\\end{array}$$`\n",
    "\n",
    "$$\\begin{array}{r}\n",
    "  28\\\\\n",
    "  +61\\\\\n",
    "  \\hline\n",
    "  89\n",
    "\\end{array}$$"
   ]
  },
  {
   "cell_type": "markdown",
   "metadata": {},
   "source": [
    "## Subtraction"
   ]
  },
  {
   "cell_type": "markdown",
   "metadata": {},
   "source": [
    "### Description"
   ]
  },
  {
   "cell_type": "markdown",
   "metadata": {},
   "source": [
    "[Subtract Whole Numbers](https://openstax.org/books/prealgebra-2e/pages/1-3-subtract-whole-numbers)\n",
    "\n",
    "[Subtract Integers](https://openstax.org/books/prealgebra-2e/pages/3-3-subtract-integers)"
   ]
  },
  {
   "cell_type": "markdown",
   "metadata": {},
   "source": [
    "### LaTeX"
   ]
  },
  {
   "cell_type": "markdown",
   "metadata": {},
   "source": [
    "`$$7 - 3 = 4$$`\n",
    "\n",
    "$$7 - 3 = 4$$\n",
    "\n",
    "`$$\\begin{array}{r}\n",
    "  89\\\\\n",
    "  -61\\\\\n",
    "  \\hline\n",
    "  28\n",
    "\\end{array}$$`\n",
    "\n",
    "$$\\begin{array}{r}\n",
    "  89\\\\\n",
    "  -61\\\\\n",
    "  \\hline\n",
    "  28\n",
    "\\end{array}$$"
   ]
  },
  {
   "cell_type": "markdown",
   "metadata": {},
   "source": [
    "## Multiplication"
   ]
  },
  {
   "cell_type": "markdown",
   "metadata": {},
   "source": [
    "### Description"
   ]
  },
  {
   "cell_type": "markdown",
   "metadata": {},
   "source": [
    "[Multiply Whole Numbers](https://openstax.org/books/prealgebra-2e/pages/1-4-multiply-whole-numbers)\n",
    "\n",
    "[Multiply and Divide Integers](https://openstax.org/books/prealgebra-2e/pages/3-4-multiply-and-divide-integers)"
   ]
  },
  {
   "cell_type": "markdown",
   "metadata": {},
   "source": [
    "### LaTeX"
   ]
  },
  {
   "cell_type": "markdown",
   "metadata": {},
   "source": [
    "`$$8 \\times 3 = 24$$`\n",
    "\n",
    "$$8 \\times 3 = 24$$\n",
    "\n",
    "`$$8 \\cdot 3 = 24$$`\n",
    "\n",
    "$$8 \\cdot 3 = 24$$\n",
    "\n",
    "`$$8(3) = 24$$`\n",
    "\n",
    "$$8(3) = 24$$\n",
    "\n",
    "`$$\\begin{array}{r}\n",
    "  27\\\\\n",
    "  \\times 3\\\\\n",
    "  \\hline\n",
    "  81\n",
    "\\end{array}$$`\n",
    "\n",
    "$$\\begin{array}{r}\n",
    "  27\\\\\n",
    "  \\times 3\\\\\n",
    "  \\hline\n",
    "  81\n",
    "\\end{array}$$"
   ]
  },
  {
   "cell_type": "markdown",
   "metadata": {},
   "source": [
    "## Division"
   ]
  },
  {
   "cell_type": "markdown",
   "metadata": {},
   "source": [
    "### Description"
   ]
  },
  {
   "cell_type": "markdown",
   "metadata": {},
   "source": [
    "[Divide Whole Numbers](https://openstax.org/books/prealgebra-2e/pages/1-5-divide-whole-numbers)\n",
    "\n",
    "[Multiply and Divide Integers](https://openstax.org/books/prealgebra-2e/pages/3-4-multiply-and-divide-integers)"
   ]
  },
  {
   "cell_type": "markdown",
   "metadata": {},
   "source": [
    "### LaTeX"
   ]
  },
  {
   "cell_type": "markdown",
   "metadata": {},
   "source": [
    "`$$12 \\div 4 = 3$$`\n",
    "\n",
    "$$12 \\div 4 = 3$$\n",
    "\n",
    "`$$\\frac{12}{4} = 3$$`\n",
    "\n",
    "$$\\frac{12}{4} = 3$$\n",
    "\n",
    "`$$^{12}/_4 = 3$$`\n",
    "\n",
    "$$^{12}/_4 = 3$$\n",
    "\n",
    "`$$12 / 4 = 3$$`\n",
    "\n",
    "$$12 / 4 = 3$$\n",
    "\n",
    "`$$\\begin{array}{r}\n",
    "  3\\\\\n",
    "  4\\overline{)12}\n",
    "\\end{array}$$`\n",
    "\n",
    "$$\\begin{array}{r}\n",
    "  3\\\\\n",
    "  4\\overline{)12}\n",
    "\\end{array}$$\n",
    "\n",
    "See [Better way to display long division?](https://tex.stackexchange.com/questions/131125/better-way-to-display-long-division) for better formatting options."
   ]
  },
  {
   "cell_type": "markdown",
   "metadata": {},
   "source": [
    "## Variables, constants, and terms"
   ]
  },
  {
   "cell_type": "markdown",
   "metadata": {},
   "source": [
    "### Description"
   ]
  },
  {
   "cell_type": "markdown",
   "metadata": {},
   "source": [
    "[Use the Language of Algebra](https://openstax.org/books/prealgebra-2e/pages/2-1-use-the-language-of-algebra)\n",
    "\n",
    "[Evaluate, Simplify, and Translate Expressions](https://openstax.org/books/prealgebra-2e/pages/2-2-evaluate-simplify-and-translate-expressions)\n",
    "\n",
    "[Decimals and Fractions](https://openstax.org/books/prealgebra-2e/pages/5-3-decimals-and-fractions)"
   ]
  },
  {
   "cell_type": "markdown",
   "metadata": {},
   "source": [
    "### LaTeX"
   ]
  },
  {
   "cell_type": "markdown",
   "metadata": {},
   "source": [
    "`$$a$$`\n",
    "\n",
    "$$a$$\n",
    "\n",
    "`$$9a$$`\n",
    "\n",
    "$$9a$$\n",
    "\n",
    "`$$\\pi$$`\n",
    "\n",
    "$$\\pi$$"
   ]
  },
  {
   "cell_type": "markdown",
   "metadata": {},
   "source": [
    "## Equality and inequality"
   ]
  },
  {
   "cell_type": "markdown",
   "metadata": {},
   "source": [
    "### Description"
   ]
  },
  {
   "cell_type": "markdown",
   "metadata": {},
   "source": [
    "[Use the Language of Algebra](https://openstax.org/books/prealgebra-2e/pages/2-1-use-the-language-of-algebra)\n",
    "\n",
    "[Decimals and Fractions](https://openstax.org/books/prealgebra-2e/pages/5-3-decimals-and-fractions)"
   ]
  },
  {
   "cell_type": "markdown",
   "metadata": {},
   "source": [
    "### LaTeX"
   ]
  },
  {
   "cell_type": "markdown",
   "metadata": {},
   "source": [
    "`$$a = b$$`\n",
    "\n",
    "$$a = b$$\n",
    "\n",
    "`$$a \\neq b$$`\n",
    "\n",
    "$$a \\neq b$$\n",
    "\n",
    "`$$a < b$$`\n",
    "\n",
    "$$a < b$$\n",
    "\n",
    "`$$a > b$$`\n",
    "\n",
    "$$a > b$$\n",
    "\n",
    "`$$a \\leq b$$`\n",
    "\n",
    "$$a \\leq b$$\n",
    "\n",
    "`$$a \\geq b$$`\n",
    "    \n",
    "$$a \\geq b$$\n",
    "\n",
    "`$$a \\approx b$$`\n",
    "\n",
    "$$a \\approx b$$"
   ]
  },
  {
   "cell_type": "markdown",
   "metadata": {},
   "source": [
    "## Grouping"
   ]
  },
  {
   "cell_type": "markdown",
   "metadata": {},
   "source": [
    "### Description"
   ]
  },
  {
   "cell_type": "markdown",
   "metadata": {},
   "source": [
    "[Use the Language of Algebra](https://openstax.org/books/prealgebra-2e/pages/2-1-use-the-language-of-algebra)"
   ]
  },
  {
   "cell_type": "markdown",
   "metadata": {},
   "source": [
    "### LaTeX"
   ]
  },
  {
   "cell_type": "markdown",
   "metadata": {},
   "source": [
    "`$$24 \\div \\{13 - 2[1(6 - 5) + 4]\\}$$`\n",
    "\n",
    "$$24 \\div \\{13 - 2[1(6 - 5) + 4]\\}$$"
   ]
  },
  {
   "cell_type": "markdown",
   "metadata": {},
   "source": [
    "## Exponents"
   ]
  },
  {
   "cell_type": "markdown",
   "metadata": {},
   "source": [
    "### Description"
   ]
  },
  {
   "cell_type": "markdown",
   "metadata": {},
   "source": [
    "[Use the Language of Algebra](https://openstax.org/books/prealgebra-2e/pages/2-1-use-the-language-of-algebra)\n",
    "\n",
    "[Multiply and Divide Integers](https://openstax.org/books/prealgebra-2e/pages/3-4-multiply-and-divide-integers)"
   ]
  },
  {
   "cell_type": "markdown",
   "metadata": {},
   "source": [
    "### LaTeX"
   ]
  },
  {
   "cell_type": "markdown",
   "metadata": {},
   "source": [
    "`$$2^3$$`\n",
    "\n",
    "$$2^3$$\n",
    "\n",
    "`$$(-2)^4$$`\n",
    "\n",
    "$$(-2)^4$$"
   ]
  },
  {
   "cell_type": "markdown",
   "metadata": {},
   "source": [
    "## Order of operations"
   ]
  },
  {
   "cell_type": "markdown",
   "metadata": {},
   "source": [
    "### Description"
   ]
  },
  {
   "cell_type": "markdown",
   "metadata": {},
   "source": [
    "[Use the Language of Algebra](https://openstax.org/books/prealgebra-2e/pages/2-1-use-the-language-of-algebra)"
   ]
  },
  {
   "cell_type": "markdown",
   "metadata": {},
   "source": [
    "## Prime factorization"
   ]
  },
  {
   "cell_type": "markdown",
   "metadata": {},
   "source": [
    "### Description"
   ]
  },
  {
   "cell_type": "markdown",
   "metadata": {},
   "source": [
    "[Prime Factorization and the Least Common Multiple](https://openstax.org/books/prealgebra-2e/pages/2-5-prime-factorization-and-the-least-common-multiple)"
   ]
  },
  {
   "cell_type": "markdown",
   "metadata": {},
   "source": [
    "## Least common multiple"
   ]
  },
  {
   "cell_type": "markdown",
   "metadata": {},
   "source": [
    "### Description"
   ]
  },
  {
   "cell_type": "markdown",
   "metadata": {},
   "source": [
    "[Prime Factorization and the Least Common Multiple](https://openstax.org/books/prealgebra-2e/pages/2-5-prime-factorization-and-the-least-common-multiple)"
   ]
  },
  {
   "cell_type": "markdown",
   "metadata": {},
   "source": [
    "## Absolute value"
   ]
  },
  {
   "cell_type": "markdown",
   "metadata": {},
   "source": [
    "### Description"
   ]
  },
  {
   "cell_type": "markdown",
   "metadata": {},
   "source": [
    "[Introduction to Integers](https://openstax.org/books/prealgebra-2e/pages/3-1-introduction-to-integers)"
   ]
  },
  {
   "cell_type": "markdown",
   "metadata": {},
   "source": [
    "### LaTeX"
   ]
  },
  {
   "cell_type": "markdown",
   "metadata": {},
   "source": [
    "`$$\\left\\lvert -5 \\right\\rvert$$`\n",
    "\n",
    "$$\\left\\lvert -5 \\right\\rvert$$\n",
    "\n",
    "See [Latex absolute value](https://www.math-linux.com/latex-26/faq/latex-faq/article/latex-absolute-value)."
   ]
  },
  {
   "cell_type": "markdown",
   "metadata": {},
   "source": [
    "## Fractions"
   ]
  },
  {
   "cell_type": "markdown",
   "metadata": {},
   "source": [
    "### Description"
   ]
  },
  {
   "cell_type": "markdown",
   "metadata": {},
   "source": [
    "[Visualize Fractions](https://openstax.org/books/prealgebra-2e/pages/4-1-visualize-fractions)\n",
    "\n",
    "[Multiply and Divide Mixed Numbers and Complex Fractions](https://openstax.org/books/prealgebra-2e/pages/4-3-multiply-and-divide-mixed-numbers-and-complex-fractions)\n",
    "\n",
    "[Add and Subtract Fractions with Different Denominators](https://openstax.org/books/prealgebra-2e/pages/4-5-add-and-subtract-fractions-with-different-denominators)\n",
    "\n",
    "[Solve Equations with Fractions](https://openstax.org/books/prealgebra-2e/pages/4-7-solve-equations-with-fractions)"
   ]
  },
  {
   "cell_type": "markdown",
   "metadata": {},
   "source": [
    "### LaTeX"
   ]
  },
  {
   "cell_type": "markdown",
   "metadata": {},
   "source": [
    "`$$-\\frac{12}{4}$$`\n",
    "\n",
    "$$-\\frac{12}{4}$$\n",
    "\n",
    "`$$-^{12}/_4$$`\n",
    "\n",
    "$$-^{12}/_4$$\n",
    "\n",
    "`$$1 \\frac{1}{5}$$`\n",
    "\n",
    "$$1 \\frac{1}{5}$$\n",
    "\n",
    "`$$\\frac{3}{4}x = 24$$`\n",
    "\n",
    "$$\\frac{3}{4}x = 24$$\n",
    "\n",
    "`$$\\left(\\frac{1}{2}\\right)^2$$`\n",
    "\n",
    "$$\\left(\\frac{1}{2}\\right)^2$$\n",
    "\n",
    "`$$\\frac{-2\\frac{3}{4}}{2^2 + \\frac{5}{8}}$$`\n",
    "\n",
    "$$\\frac{-2\\frac{3}{4}}{2^2 + \\frac{5}{8}}$$\n",
    "\n",
    "`$$\\begin{array}{r}\n",
    "  3 \\frac{4}{9}\\\\\n",
    "  + 2 \\frac{2}{9}\\\\\n",
    "  \\hline\n",
    "  5 \\frac{2}{3}\n",
    "\\end{array}$$`\n",
    "\n",
    "$$\\begin{array}{r}\n",
    "  3 \\frac{4}{9}\\\\\n",
    "  + 2 \\frac{2}{9}\\\\\n",
    "  \\hline\n",
    "  5 \\frac{2}{3}\n",
    "\\end{array}$$"
   ]
  },
  {
   "cell_type": "markdown",
   "metadata": {},
   "source": [
    "## Decimals"
   ]
  },
  {
   "cell_type": "markdown",
   "metadata": {},
   "source": [
    "### Description"
   ]
  },
  {
   "cell_type": "markdown",
   "metadata": {},
   "source": [
    "[Decimals](https://openstax.org/books/prealgebra-2e/pages/5-1-decimals)\n",
    "\n",
    "[Decimal Operations](https://openstax.org/books/prealgebra-2e/pages/5-2-decimal-operations)\n",
    "\n",
    "[Decimals and Fractions](https://openstax.org/books/prealgebra-2e/pages/5-3-decimals-and-fractions)"
   ]
  },
  {
   "cell_type": "markdown",
   "metadata": {},
   "source": [
    "### LaTeX"
   ]
  },
  {
   "cell_type": "markdown",
   "metadata": {},
   "source": [
    "`$$4.161616\\dots$$`\n",
    "\n",
    "$$4.161616\\dots$$\n",
    "\n",
    "`$$4.\\overline{16}$$`\n",
    "\n",
    "$$4.\\overline{16}$$\n",
    "\n",
    "`$$\\begin{array}{r}\n",
    "  23.5\\\\\n",
    "  + 41.38\\\\\n",
    "  \\hline\n",
    "  64.88\n",
    "\\end{array}$$`\n",
    "\n",
    "$$\\begin{array}{r}\n",
    "  23.5\\\\\n",
    "  + 41.38\\\\\n",
    "  \\hline\n",
    "  64.88\n",
    "\\end{array}$$\n",
    "\n",
    "Outside of MathJax you can align on the decimals using [@-expressions](https://en.wikibooks.org/wiki/LaTeX/Tables#@-expressions):\n",
    "\n",
    "`$$\\begin{tabular}{r@{.}l}\n",
    "  23&5\\\\\n",
    "  + 41&38\\\\\n",
    "  \\hline\n",
    "  64&88\\\\\n",
    "\\end{tabular}$$`"
   ]
  },
  {
   "cell_type": "markdown",
   "metadata": {},
   "source": [
    "## Roots"
   ]
  },
  {
   "cell_type": "markdown",
   "metadata": {},
   "source": [
    "### Description"
   ]
  },
  {
   "cell_type": "markdown",
   "metadata": {},
   "source": [
    "[Simplify and Use Square Roots](https://openstax.org/books/prealgebra-2e/pages/5-7-simplify-and-use-square-roots)"
   ]
  },
  {
   "cell_type": "markdown",
   "metadata": {},
   "source": [
    "### LaTeX"
   ]
  },
  {
   "cell_type": "markdown",
   "metadata": {},
   "source": [
    "`$$\\sqrt{\\frac{a}{b}}$$`\n",
    "\n",
    "$$\\sqrt{\\frac{a}{b}}$$\n",
    "\n",
    "`$$\\sqrt[3]{5^3}$$`\n",
    "\n",
    "$$\\sqrt[3]{5^3}$$\n",
    "\n",
    "`$$\\frac{\\sqrt{h}}{4}$$`\n",
    "\n",
    "$$\\frac{\\sqrt{h}}{4}$$\n",
    "\n",
    "See the notes on enclosed square roots at [Roots](https://en.wikibooks.org/wiki/LaTeX/Mathematics#Roots)."
   ]
  }
 ],
 "metadata": {
  "kernelspec": {
   "display_name": "Python 3",
   "language": "python",
   "name": "python3"
  },
  "language_info": {
   "codemirror_mode": {
    "name": "ipython",
    "version": 3
   },
   "file_extension": ".py",
   "mimetype": "text/x-python",
   "name": "python",
   "nbconvert_exporter": "python",
   "pygments_lexer": "ipython3",
   "version": "3.8.4"
  },
  "toc": {
   "base_numbering": 1,
   "nav_menu": {},
   "number_sections": true,
   "sideBar": true,
   "skip_h1_title": false,
   "title_cell": "Table of Contents",
   "title_sidebar": "Contents",
   "toc_cell": false,
   "toc_position": {},
   "toc_section_display": true,
   "toc_window_display": false
  }
 },
 "nbformat": 4,
 "nbformat_minor": 4
}
