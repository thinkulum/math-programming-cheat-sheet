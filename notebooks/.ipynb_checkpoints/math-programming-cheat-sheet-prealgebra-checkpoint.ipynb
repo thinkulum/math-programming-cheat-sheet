{
 "cells": [
  {
   "cell_type": "markdown",
   "metadata": {},
   "source": [
    "# Prealgebra"
   ]
  },
  {
   "cell_type": "markdown",
   "metadata": {},
   "source": [
    "## Integers"
   ]
  },
  {
   "cell_type": "markdown",
   "metadata": {},
   "source": [
    "### Description"
   ]
  },
  {
   "cell_type": "markdown",
   "metadata": {},
   "source": [
    "## Addition"
   ]
  },
  {
   "cell_type": "markdown",
   "metadata": {},
   "source": [
    "### Description"
   ]
  },
  {
   "cell_type": "markdown",
   "metadata": {},
   "source": [
    "[Add Whole Numbers](https://openstax.org/books/prealgebra-2e/pages/1-2-add-whole-numbers)"
   ]
  },
  {
   "cell_type": "markdown",
   "metadata": {},
   "source": [
    "### LaTeX"
   ]
  },
  {
   "cell_type": "markdown",
   "metadata": {},
   "source": [
    "`$$3 + 4 = 7$$`\n",
    "\n",
    "$$3 + 4 = 7$$\n",
    "\n",
    "`$$\\begin{array}{r}\n",
    "  28\\\\\n",
    "  +61\\\\\n",
    "  \\hline\n",
    "  89\n",
    "\\end{array}$$`\n",
    "\n",
    "$$\\begin{array}{r}\n",
    "  28\\\\\n",
    "  +61\\\\\n",
    "  \\hline\n",
    "  89\n",
    "\\end{array}$$"
   ]
  },
  {
   "cell_type": "markdown",
   "metadata": {},
   "source": [
    "## Subtraction"
   ]
  },
  {
   "cell_type": "markdown",
   "metadata": {},
   "source": [
    "### Description"
   ]
  },
  {
   "cell_type": "markdown",
   "metadata": {},
   "source": [
    "[Subtract Whole Numbers](https://openstax.org/books/prealgebra-2e/pages/1-3-subtract-whole-numbers)"
   ]
  },
  {
   "cell_type": "markdown",
   "metadata": {},
   "source": [
    "### LaTeX"
   ]
  },
  {
   "cell_type": "markdown",
   "metadata": {},
   "source": [
    "`$$7 - 3 = 4$$`\n",
    "\n",
    "$$7 - 3 = 4$$\n",
    "\n",
    "`$$\\begin{array}{r}\n",
    "  89\\\\\n",
    "  -61\\\\\n",
    "  \\hline\n",
    "  28\n",
    "\\end{array}$$`\n",
    "\n",
    "$$\\begin{array}{r}\n",
    "  89\\\\\n",
    "  -61\\\\\n",
    "  \\hline\n",
    "  28\n",
    "\\end{array}$$"
   ]
  },
  {
   "cell_type": "markdown",
   "metadata": {},
   "source": [
    "## Multiplication"
   ]
  },
  {
   "cell_type": "markdown",
   "metadata": {},
   "source": [
    "### Description"
   ]
  },
  {
   "cell_type": "markdown",
   "metadata": {},
   "source": [
    "[Multiply Whole Numbers](https://openstax.org/books/prealgebra-2e/pages/1-4-multiply-whole-numbers)"
   ]
  },
  {
   "cell_type": "markdown",
   "metadata": {},
   "source": [
    "### LaTeX"
   ]
  },
  {
   "cell_type": "markdown",
   "metadata": {},
   "source": [
    "`$$8 \\times 3 = 24$$`\n",
    "\n",
    "$$8 \\times 3 = 24$$\n",
    "\n",
    "`$$8 \\cdot 3 = 24$$`\n",
    "\n",
    "$$8 \\cdot 3 = 24$$\n",
    "\n",
    "`$$8(3) = 24$$`\n",
    "\n",
    "$$8(3) = 24$$\n",
    "\n",
    "`$$\\begin{array}{r}\n",
    "  27\\\\\n",
    "  \\times 3\\\\\n",
    "  \\hline\n",
    "  81\n",
    "\\end{array}$$`\n",
    "\n",
    "$$\\begin{array}{r}\n",
    "  27\\\\\n",
    "  \\times 3\\\\\n",
    "  \\hline\n",
    "  81\n",
    "\\end{array}$$"
   ]
  },
  {
   "cell_type": "markdown",
   "metadata": {},
   "source": [
    "## Division"
   ]
  },
  {
   "cell_type": "markdown",
   "metadata": {},
   "source": [
    "### Description"
   ]
  },
  {
   "cell_type": "markdown",
   "metadata": {},
   "source": [
    "[Divide Whole Numbers](https://openstax.org/books/prealgebra-2e/pages/1-5-divide-whole-numbers)"
   ]
  },
  {
   "cell_type": "markdown",
   "metadata": {},
   "source": [
    "### LaTeX"
   ]
  },
  {
   "cell_type": "markdown",
   "metadata": {},
   "source": [
    "`$$12 \\div 4 = 3$$`\n",
    "\n",
    "$$12 \\div 4 = 3$$\n",
    "\n",
    "`$$\\frac{12}{4} = 3$$`\n",
    "\n",
    "$$\\frac{12}{4} = 3$$\n",
    "\n",
    "`$$^{12}/_4 = 3$$`\n",
    "\n",
    "$$^{12}/_4 = 3$$\n",
    "\n",
    "`$$12 / 4 = 3$$`\n",
    "\n",
    "$$12 / 4 = 3$$\n",
    "\n",
    "`$$\\begin{array}{r}\n",
    "  3\\\\\n",
    "  4\\overline{)12}\n",
    "\\end{array}$$`\n",
    "\n",
    "$$\\begin{array}{r}\n",
    "  3\\\\\n",
    "  4\\overline{)12}\n",
    "\\end{array}$$\n",
    "\n",
    "See [Better way to display long division?](https://tex.stackexchange.com/questions/131125/better-way-to-display-long-division) for better formatting options."
   ]
  }
 ],
 "metadata": {
  "kernelspec": {
   "display_name": "Python 3",
   "language": "python",
   "name": "python3"
  },
  "language_info": {
   "codemirror_mode": {
    "name": "ipython",
    "version": 3
   },
   "file_extension": ".py",
   "mimetype": "text/x-python",
   "name": "python",
   "nbconvert_exporter": "python",
   "pygments_lexer": "ipython3",
   "version": "3.8.4"
  },
  "toc": {
   "base_numbering": 1,
   "nav_menu": {},
   "number_sections": true,
   "sideBar": true,
   "skip_h1_title": false,
   "title_cell": "Table of Contents",
   "title_sidebar": "Contents",
   "toc_cell": false,
   "toc_position": {},
   "toc_section_display": true,
   "toc_window_display": false
  }
 },
 "nbformat": 4,
 "nbformat_minor": 4
}
