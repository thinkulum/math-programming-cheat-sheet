{
 "cells": [
  {
   "cell_type": "markdown",
   "metadata": {},
   "source": [
    "# Notes"
   ]
  },
  {
   "cell_type": "markdown",
   "metadata": {},
   "source": [
    "## Organization\n",
    "\n",
    "This guide is organized roughly according to a typical school curriculum rather than the features of a programming language. This is to make sure I cover all the math a learner would need in case there are gaps in a particular language (or in all languages).\n",
    "\n",
    "### References\n",
    "\n",
    "Maracek, Lynn, et al. _[Prealgebra 2e](https://openstax.org/details/books/prealgebra-2e)_. OpenStax."
   ]
  },
  {
   "cell_type": "markdown",
   "metadata": {},
   "source": [
    "## LaTeX\n",
    "\n",
    "LaTeX code is set off with different delimeters depending on the context in which it's being used. Since this guide takes the form of a Jupyter notebook, it surrounds the code with `$$` to create displayed expressions (see [Markdown cells](https://jupyter-notebook.readthedocs.io/en/stable/notebook.html#markdown-cells), [LaTeX equations](https://jupyter-notebook.readthedocs.io/en/stable/examples/Notebook/Working%20With%20Markdown%20Cells.html#LaTeX-equations) and [TeX and LaTeX Support](http://docs.mathjax.org/en/latest/input/tex/index.html)).\n",
    "\n",
    "### References\n",
    "\n",
    "[LaTeX/Mathematics](https://en.wikibooks.org/wiki/LaTeX/Mathematics)\n",
    "\n",
    "[MathJax basic tutorial and quick reference](https://math.meta.stackexchange.com/questions/5020/mathjax-basic-tutorial-and-quick-reference)\n",
    "\n",
    "[Mathematical expressions](https://www.overleaf.com/learn/latex/Mathematical_expressions)"
   ]
  }
 ],
 "metadata": {
  "kernelspec": {
   "display_name": "Python 3",
   "language": "python",
   "name": "python3"
  },
  "language_info": {
   "codemirror_mode": {
    "name": "ipython",
    "version": 3
   },
   "file_extension": ".py",
   "mimetype": "text/x-python",
   "name": "python",
   "nbconvert_exporter": "python",
   "pygments_lexer": "ipython3",
   "version": "3.8.4"
  },
  "toc": {
   "base_numbering": 1,
   "nav_menu": {},
   "number_sections": true,
   "sideBar": true,
   "skip_h1_title": false,
   "title_cell": "Table of Contents",
   "title_sidebar": "Contents",
   "toc_cell": false,
   "toc_position": {},
   "toc_section_display": true,
   "toc_window_display": false
  }
 },
 "nbformat": 4,
 "nbformat_minor": 4
}
